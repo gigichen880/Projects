{
 "cells": [
  {
   "cell_type": "code",
   "execution_count": 1,
   "id": "884fccc6",
   "metadata": {},
   "outputs": [],
   "source": [
    "import numpy as np\n",
    "import pandas as pd\n",
    "import matplotlib.pyplot as plt\n",
    "from nltk.stem import WordNetLemmatizer\n",
    "from nltk.corpus import wordnet\n",
    "import warnings\n",
    "warnings.filterwarnings(\"ignore\")"
   ]
  },
  {
   "cell_type": "code",
   "execution_count": 2,
   "id": "685c3b6f",
   "metadata": {},
   "outputs": [],
   "source": [
    "from sklearn.model_selection import train_test_split\n",
    "from sklearn.preprocessing import StandardScaler"
   ]
  },
  {
   "cell_type": "code",
   "execution_count": 3,
   "id": "65f96b78",
   "metadata": {},
   "outputs": [
    {
     "data": {
      "text/html": [
       "<div>\n",
       "<style scoped>\n",
       "    .dataframe tbody tr th:only-of-type {\n",
       "        vertical-align: middle;\n",
       "    }\n",
       "\n",
       "    .dataframe tbody tr th {\n",
       "        vertical-align: top;\n",
       "    }\n",
       "\n",
       "    .dataframe thead th {\n",
       "        text-align: right;\n",
       "    }\n",
       "</style>\n",
       "<table border=\"1\" class=\"dataframe\">\n",
       "  <thead>\n",
       "    <tr style=\"text-align: right;\">\n",
       "      <th></th>\n",
       "      <th>genre</th>\n",
       "      <th>description</th>\n",
       "    </tr>\n",
       "  </thead>\n",
       "  <tbody>\n",
       "    <tr>\n",
       "      <th>0</th>\n",
       "      <td>Romance</td>\n",
       "      <td>The adventures of a female reporter in the 1890s.</td>\n",
       "    </tr>\n",
       "    <tr>\n",
       "      <th>1</th>\n",
       "      <td>Biography, Crime, Drama</td>\n",
       "      <td>True story of notorious Australian outlaw Ned ...</td>\n",
       "    </tr>\n",
       "    <tr>\n",
       "      <th>2</th>\n",
       "      <td>Drama</td>\n",
       "      <td>Two men of high rank are both wooing the beaut...</td>\n",
       "    </tr>\n",
       "    <tr>\n",
       "      <th>3</th>\n",
       "      <td>Drama, History</td>\n",
       "      <td>The fabled queen of Egypt's affair with Roman ...</td>\n",
       "    </tr>\n",
       "    <tr>\n",
       "      <th>4</th>\n",
       "      <td>Adventure, Drama, Fantasy</td>\n",
       "      <td>Loosely adapted from Dante's Divine Comedy and...</td>\n",
       "    </tr>\n",
       "  </tbody>\n",
       "</table>\n",
       "</div>"
      ],
      "text/plain": [
       "                       genre  \\\n",
       "0                    Romance   \n",
       "1    Biography, Crime, Drama   \n",
       "2                      Drama   \n",
       "3             Drama, History   \n",
       "4  Adventure, Drama, Fantasy   \n",
       "\n",
       "                                         description  \n",
       "0  The adventures of a female reporter in the 1890s.  \n",
       "1  True story of notorious Australian outlaw Ned ...  \n",
       "2  Two men of high rank are both wooing the beaut...  \n",
       "3  The fabled queen of Egypt's affair with Roman ...  \n",
       "4  Loosely adapted from Dante's Divine Comedy and...  "
      ]
     },
     "execution_count": 3,
     "metadata": {},
     "output_type": "execute_result"
    }
   ],
   "source": [
    "df = pd.read_csv(\"IMDb movies.csv\")\n",
    "df = df[['genre','description']]\n",
    "df.head()"
   ]
  },
  {
   "cell_type": "code",
   "execution_count": 4,
   "id": "293bf3e9",
   "metadata": {},
   "outputs": [
    {
     "data": {
      "text/plain": [
       "genre          False\n",
       "description     True\n",
       "dtype: bool"
      ]
     },
     "execution_count": 4,
     "metadata": {},
     "output_type": "execute_result"
    }
   ],
   "source": [
    "# filter null values\n",
    "df.isna().any()"
   ]
  },
  {
   "cell_type": "code",
   "execution_count": 5,
   "id": "19210cd7",
   "metadata": {},
   "outputs": [],
   "source": [
    "df.dropna(inplace = True)\n",
    "df.reset_index(drop=True, inplace = True)"
   ]
  },
  {
   "cell_type": "code",
   "execution_count": 6,
   "id": "6a6935da",
   "metadata": {},
   "outputs": [],
   "source": [
    "# Convert multi-label splitted by comma into lists\n",
    "for i in range(len(df[\"genre\"])):\n",
    "    df[\"genre\"][i] = df[\"genre\"][i].replace(\" \", \"\")\n",
    "    df[\"genre\"][i] = list(df[\"genre\"][i].split(\",\"))"
   ]
  },
  {
   "cell_type": "code",
   "execution_count": 7,
   "id": "f7e83d3a",
   "metadata": {},
   "outputs": [],
   "source": [
    "# Simplify multi-label into multi-class problem\n",
    "df['nGenre'] = [0 for i in range(len(df))]\n",
    "for i in range(len(df)):\n",
    "    df['nGenre'][i] = len(df['genre'][i])\n",
    "\n",
    "df = df[df['nGenre']==1]"
   ]
  },
  {
   "cell_type": "code",
   "execution_count": 8,
   "id": "426c921d",
   "metadata": {},
   "outputs": [],
   "source": [
    "df = df[['genre','description']]\n",
    "df['genre'] = [''.join(i) for i in df['genre']]\n",
    "df.reset_index(drop=True, inplace = True)"
   ]
  },
  {
   "cell_type": "code",
   "execution_count": 9,
   "id": "b693d7d2",
   "metadata": {},
   "outputs": [
    {
     "data": {
      "text/plain": [
       "Drama       12105\n",
       "Comedy       7146\n",
       "Horror       2241\n",
       "Thriller     1217\n",
       "Action        699\n",
       "Western       588\n",
       "Romance       415\n",
       "Name: genre, dtype: int64"
      ]
     },
     "execution_count": 9,
     "metadata": {},
     "output_type": "execute_result"
    }
   ],
   "source": [
    "# Explore genres with abundant data\n",
    "df['genre'].value_counts()[0:7]"
   ]
  },
  {
   "cell_type": "code",
   "execution_count": 10,
   "id": "59ebea8a",
   "metadata": {},
   "outputs": [
    {
     "data": {
      "text/plain": [
       "Index(['Drama', 'Comedy', 'Horror', 'Thriller', 'Action', 'Western',\n",
       "       'Romance'],\n",
       "      dtype='object')"
      ]
     },
     "execution_count": 10,
     "metadata": {},
     "output_type": "execute_result"
    }
   ],
   "source": [
    "df['genre'].value_counts()[0:7].index"
   ]
  },
  {
   "cell_type": "code",
   "execution_count": 11,
   "id": "7eb47783",
   "metadata": {},
   "outputs": [],
   "source": [
    "for genre in df['genre'].value_counts()[0:7].index:\n",
    "    # Extract the first three letters of the genre in lower case\n",
    "    short_name = genre[:3].lower()\n",
    "    # Create a DataFrame using the abbreviated genre name\n",
    "    variable_name = 'df_' + short_name\n",
    "    # Create a global variable with the constructed name\n",
    "    globals()[variable_name] = df[df['genre'] == genre].reset_index(drop=True)[:400]"
   ]
  },
  {
   "cell_type": "code",
   "execution_count": 12,
   "id": "7fcbb495",
   "metadata": {},
   "outputs": [
    {
     "data": {
      "text/html": [
       "<div>\n",
       "<style scoped>\n",
       "    .dataframe tbody tr th:only-of-type {\n",
       "        vertical-align: middle;\n",
       "    }\n",
       "\n",
       "    .dataframe tbody tr th {\n",
       "        vertical-align: top;\n",
       "    }\n",
       "\n",
       "    .dataframe thead th {\n",
       "        text-align: right;\n",
       "    }\n",
       "</style>\n",
       "<table border=\"1\" class=\"dataframe\">\n",
       "  <thead>\n",
       "    <tr style=\"text-align: right;\">\n",
       "      <th></th>\n",
       "      <th>genre</th>\n",
       "      <th>description</th>\n",
       "    </tr>\n",
       "  </thead>\n",
       "  <tbody>\n",
       "    <tr>\n",
       "      <th>0</th>\n",
       "      <td>Drama</td>\n",
       "      <td>Two men of high rank are both wooing the beaut...</td>\n",
       "    </tr>\n",
       "    <tr>\n",
       "      <th>1</th>\n",
       "      <td>Drama</td>\n",
       "      <td>Richard of Gloucester uses manipulation and mu...</td>\n",
       "    </tr>\n",
       "    <tr>\n",
       "      <th>2</th>\n",
       "      <td>Drama</td>\n",
       "      <td>After Dr. Friedrich's wife becomes mentally un...</td>\n",
       "    </tr>\n",
       "    <tr>\n",
       "      <th>3</th>\n",
       "      <td>Drama</td>\n",
       "      <td>Single mother is separated from her children d...</td>\n",
       "    </tr>\n",
       "    <tr>\n",
       "      <th>4</th>\n",
       "      <td>Drama</td>\n",
       "      <td>Leslie Swayne, an adventurer, in order to obta...</td>\n",
       "    </tr>\n",
       "    <tr>\n",
       "      <th>...</th>\n",
       "      <td>...</td>\n",
       "      <td>...</td>\n",
       "    </tr>\n",
       "    <tr>\n",
       "      <th>395</th>\n",
       "      <td>Romance</td>\n",
       "      <td>Sato is 27 years old, lives in the northern pr...</td>\n",
       "    </tr>\n",
       "    <tr>\n",
       "      <th>396</th>\n",
       "      <td>Romance</td>\n",
       "      <td>A family entertainer, the story of Ammammagari...</td>\n",
       "    </tr>\n",
       "    <tr>\n",
       "      <th>397</th>\n",
       "      <td>Romance</td>\n",
       "      <td>Tej, a youngster who's highly attached to his ...</td>\n",
       "    </tr>\n",
       "    <tr>\n",
       "      <th>398</th>\n",
       "      <td>Romance</td>\n",
       "      <td>The film is a rom-com which explores the life ...</td>\n",
       "    </tr>\n",
       "    <tr>\n",
       "      <th>399</th>\n",
       "      <td>Romance</td>\n",
       "      <td>How will 3 sisters save the Shakespeare Chatea...</td>\n",
       "    </tr>\n",
       "  </tbody>\n",
       "</table>\n",
       "<p>2800 rows × 2 columns</p>\n",
       "</div>"
      ],
      "text/plain": [
       "       genre                                        description\n",
       "0      Drama  Two men of high rank are both wooing the beaut...\n",
       "1      Drama  Richard of Gloucester uses manipulation and mu...\n",
       "2      Drama  After Dr. Friedrich's wife becomes mentally un...\n",
       "3      Drama  Single mother is separated from her children d...\n",
       "4      Drama  Leslie Swayne, an adventurer, in order to obta...\n",
       "..       ...                                                ...\n",
       "395  Romance  Sato is 27 years old, lives in the northern pr...\n",
       "396  Romance  A family entertainer, the story of Ammammagari...\n",
       "397  Romance  Tej, a youngster who's highly attached to his ...\n",
       "398  Romance  The film is a rom-com which explores the life ...\n",
       "399  Romance  How will 3 sisters save the Shakespeare Chatea...\n",
       "\n",
       "[2800 rows x 2 columns]"
      ]
     },
     "execution_count": 12,
     "metadata": {},
     "output_type": "execute_result"
    }
   ],
   "source": [
    "# New dataframe with even-sized data in 7 genres\n",
    "data = pd.concat([df_dra, df_com, df_hor, df_thr, df_act, df_wes, df_rom])\n",
    "data"
   ]
  },
  {
   "cell_type": "code",
   "execution_count": 13,
   "id": "1b8edf9c",
   "metadata": {},
   "outputs": [],
   "source": [
    "# Convert to all lower cases and strip spaces at both sides of each text string\n",
    "data['description'] = [str(i).lower().strip() for i in data['description']]\n",
    "data.reset_index(drop = True, inplace = True)"
   ]
  },
  {
   "cell_type": "code",
   "execution_count": 14,
   "id": "48c54eb8",
   "metadata": {},
   "outputs": [],
   "source": [
    "# remove all non-english character (except for space), including punctuations\n",
    "non_english_char = [chr(i) for i in range(0, 32)] + [chr(i) for i in range(33, 65)] + [chr(i) for i in range(92, 97)] + [chr(i) for i in range(123, 256)]\n",
    "for i in range(len(data)):\n",
    "    for char in non_english_char:\n",
    "        data[\"description\"][i] = str(data[\"description\"][i]).replace(char, '')"
   ]
  },
  {
   "cell_type": "code",
   "execution_count": 15,
   "id": "d961f9e3",
   "metadata": {},
   "outputs": [],
   "source": [
    "#defining the object for Lemmatization\n",
    "wordnet_lemmatizer = WordNetLemmatizer()\n",
    "\n",
    "# defining the function for lemmatization\n",
    "def lemmatizer(data):\n",
    "    wordlist = str(data).split(\" \")\n",
    "    lemm_text = [wordnet_lemmatizer.lemmatize(word) for word in wordlist]\n",
    "    lemm_text= [wordnet_lemmatizer.lemmatize(word, pos='v') for word in lemm_text]\n",
    "    lemm_text = [wordnet_lemmatizer.lemmatize(word, pos='n') for word in lemm_text]\n",
    "    lemm_text = [wordnet_lemmatizer.lemmatize(word, pos='a') for word in lemm_text]\n",
    "    lemm_text = [wordnet_lemmatizer.lemmatize(word, pos='r') for word in lemm_text]\n",
    "    lemm_text = ' '.join(lemm_text)\n",
    "    return lemm_text\n",
    "\n",
    "# lemmatize each no-stopword-text reviews\n",
    "data['description']=data['description'].apply(lemmatizer)"
   ]
  },
  {
   "cell_type": "code",
   "execution_count": 16,
   "id": "323e2ccd",
   "metadata": {},
   "outputs": [
    {
     "data": {
      "text/html": [
       "<div>\n",
       "<style scoped>\n",
       "    .dataframe tbody tr th:only-of-type {\n",
       "        vertical-align: middle;\n",
       "    }\n",
       "\n",
       "    .dataframe tbody tr th {\n",
       "        vertical-align: top;\n",
       "    }\n",
       "\n",
       "    .dataframe thead th {\n",
       "        text-align: right;\n",
       "    }\n",
       "</style>\n",
       "<table border=\"1\" class=\"dataframe\">\n",
       "  <thead>\n",
       "    <tr style=\"text-align: right;\">\n",
       "      <th></th>\n",
       "      <th>genre</th>\n",
       "      <th>description</th>\n",
       "    </tr>\n",
       "  </thead>\n",
       "  <tbody>\n",
       "    <tr>\n",
       "      <th>0</th>\n",
       "      <td>Drama</td>\n",
       "      <td>two men of high rank be both woo the beautiful...</td>\n",
       "    </tr>\n",
       "    <tr>\n",
       "      <th>1</th>\n",
       "      <td>Drama</td>\n",
       "      <td>richard of gloucester u manipulation and murde...</td>\n",
       "    </tr>\n",
       "    <tr>\n",
       "      <th>2</th>\n",
       "      <td>Drama</td>\n",
       "      <td>after dr friedrichs wife become mentally unsta...</td>\n",
       "    </tr>\n",
       "    <tr>\n",
       "      <th>3</th>\n",
       "      <td>Drama</td>\n",
       "      <td>single mother be separate from her child due t...</td>\n",
       "    </tr>\n",
       "    <tr>\n",
       "      <th>4</th>\n",
       "      <td>Drama</td>\n",
       "      <td>leslie swayne an adventurer in order to obtain...</td>\n",
       "    </tr>\n",
       "    <tr>\n",
       "      <th>...</th>\n",
       "      <td>...</td>\n",
       "      <td>...</td>\n",
       "    </tr>\n",
       "    <tr>\n",
       "      <th>2795</th>\n",
       "      <td>Romance</td>\n",
       "      <td>sato be  year old life in the northern prefect...</td>\n",
       "    </tr>\n",
       "    <tr>\n",
       "      <th>2796</th>\n",
       "      <td>Romance</td>\n",
       "      <td>a family entertainer the story of ammammagaril...</td>\n",
       "    </tr>\n",
       "    <tr>\n",
       "      <th>2797</th>\n",
       "      <td>Romance</td>\n",
       "      <td>tej a youngster who highly attach to his famil...</td>\n",
       "    </tr>\n",
       "    <tr>\n",
       "      <th>2798</th>\n",
       "      <td>Romance</td>\n",
       "      <td>the film be a romcom which explore the life of...</td>\n",
       "    </tr>\n",
       "    <tr>\n",
       "      <th>2799</th>\n",
       "      <td>Romance</td>\n",
       "      <td>how will  sister save the shakespeare chateau ...</td>\n",
       "    </tr>\n",
       "  </tbody>\n",
       "</table>\n",
       "<p>2800 rows × 2 columns</p>\n",
       "</div>"
      ],
      "text/plain": [
       "        genre                                        description\n",
       "0       Drama  two men of high rank be both woo the beautiful...\n",
       "1       Drama  richard of gloucester u manipulation and murde...\n",
       "2       Drama  after dr friedrichs wife become mentally unsta...\n",
       "3       Drama  single mother be separate from her child due t...\n",
       "4       Drama  leslie swayne an adventurer in order to obtain...\n",
       "...       ...                                                ...\n",
       "2795  Romance  sato be  year old life in the northern prefect...\n",
       "2796  Romance  a family entertainer the story of ammammagaril...\n",
       "2797  Romance  tej a youngster who highly attach to his famil...\n",
       "2798  Romance  the film be a romcom which explore the life of...\n",
       "2799  Romance  how will  sister save the shakespeare chateau ...\n",
       "\n",
       "[2800 rows x 2 columns]"
      ]
     },
     "execution_count": 16,
     "metadata": {},
     "output_type": "execute_result"
    }
   ],
   "source": [
    "data"
   ]
  },
  {
   "cell_type": "code",
   "execution_count": 17,
   "id": "0a7ec7f3",
   "metadata": {},
   "outputs": [],
   "source": [
    "# Prepare features and targets\n",
    "# Split train and test sets\n",
    "X = data['description']\n",
    "y = data['genre']\n",
    "x_train, x_test, y_train, y_test = train_test_split(X, y, test_size=0.2)"
   ]
  },
  {
   "cell_type": "code",
   "execution_count": 18,
   "id": "7a7c5186",
   "metadata": {},
   "outputs": [],
   "source": [
    "train_dataset = pd.concat([x_train, y_train], axis=1)\n",
    "test_dataset = pd.concat([x_test, y_test], axis=1)"
   ]
  },
  {
   "cell_type": "code",
   "execution_count": 19,
   "id": "26e284e0",
   "metadata": {},
   "outputs": [],
   "source": [
    "import torch.nn as nn\n",
    "import torch.optim as optim\n",
    "from tqdm import tqdm\n",
    "from sklearn.preprocessing import LabelEncoder\n",
    "import pandas as pd\n",
    "from transformers import BertTokenizer, BertModel\n",
    "import torch\n",
    "from transformers import AutoTokenizer, AutoModelForSequenceClassification, AdamW\n",
    "from torch.utils.data import DataLoader, TensorDataset\n",
    "from sklearn.preprocessing import LabelEncoder"
   ]
  },
  {
   "cell_type": "code",
   "execution_count": 20,
   "id": "39b7f193",
   "metadata": {},
   "outputs": [
    {
     "name": "stderr",
     "output_type": "stream",
     "text": [
      "Some weights of the model checkpoint at bert-base-uncased were not used when initializing BertModel: ['cls.seq_relationship.bias', 'cls.predictions.transform.dense.bias', 'cls.predictions.transform.LayerNorm.bias', 'cls.predictions.transform.dense.weight', 'cls.predictions.decoder.weight', 'cls.seq_relationship.weight', 'cls.predictions.bias', 'cls.predictions.transform.LayerNorm.weight']\n",
      "- This IS expected if you are initializing BertModel from the checkpoint of a model trained on another task or with another architecture (e.g. initializing a BertForSequenceClassification model from a BertForPreTraining model).\n",
      "- This IS NOT expected if you are initializing BertModel from the checkpoint of a model that you expect to be exactly identical (initializing a BertForSequenceClassification model from a BertForSequenceClassification model).\n"
     ]
    }
   ],
   "source": [
    "# Encoding\n",
    "label_encoder = LabelEncoder()\n",
    "y_train_encoded = label_encoder.fit_transform(y_train)\n",
    "\n",
    "# Model selection\n",
    "model_name = \"bert-base-uncased\"\n",
    "tokenizer = BertTokenizer.from_pretrained(model_name)\n",
    "embedding_model = BertModel.from_pretrained(model_name)\n",
    "\n",
    "# Device selection\n",
    "device = torch.device(\"cuda\" if torch.cuda.is_available() else \"cpu\")\n",
    "embedding_model.to(device)\n",
    "\n",
    "# Tokenizer & embeddings\n",
    "max_length = 20\n",
    "encoded_inputs = tokenizer(list(train_dataset['description']), padding='max_length', truncation=True, \n",
    "                           max_length=max_length, return_attention_mask=True)\n",
    "\n",
    "train_dataset = TensorDataset(torch.tensor(encoded_inputs['input_ids']), \n",
    "                              torch.tensor(encoded_inputs['attention_mask']), torch.tensor(y_train_encoded))\n",
    "train_loader = DataLoader(train_dataset, batch_size=12, shuffle=True)\n",
    "\n",
    "encoded_inputs_test = tokenizer(list(test_dataset['description']), padding='max_length', truncation=True, \n",
    "                                max_length=max_length, return_attention_mask=True)\n",
    "y_test_encoded = label_encoder.fit_transform(y_test)\n",
    "\n",
    "test_dataset = TensorDataset(torch.tensor(encoded_inputs_test['input_ids']), \n",
    "                             torch.tensor(encoded_inputs_test['attention_mask']), torch.tensor(y_test_encoded))\n",
    "test_loader = DataLoader(test_dataset, batch_size=12, shuffle=True)"
   ]
  },
  {
   "cell_type": "code",
   "execution_count": 21,
   "id": "281062df",
   "metadata": {},
   "outputs": [],
   "source": [
    "# nn definition\n",
    "class GenreClassifier(nn.Module):\n",
    "    def __init__(self, embedding_model, num_classes):\n",
    "        super(GenreClassifier, self).__init__()\n",
    "        self.embedding_model = embedding_model\n",
    "        self.fc = nn.Linear(embedding_model.config.hidden_size, num_classes)\n",
    "\n",
    "    def forward(self, input_ids, attention_mask):\n",
    "        embeddings = self.embedding_model(input_ids, attention_mask=attention_mask).last_hidden_state[:, 0]\n",
    "        logits = self.fc(embeddings)\n",
    "        return logits\n",
    "\n",
    "# Create the new model and move to device\n",
    "num_classes = len(label_encoder.classes_)\n",
    "model = GenreClassifier(embedding_model, num_classes)\n",
    "model.to(device)\n",
    "\n",
    "# Optimizer & loss\n",
    "optimizer = optim.AdamW(model.parameters(), lr=1e-5)\n",
    "loss_fn = nn.CrossEntropyLoss()"
   ]
  },
  {
   "cell_type": "code",
   "execution_count": 22,
   "id": "e1517229",
   "metadata": {},
   "outputs": [
    {
     "name": "stderr",
     "output_type": "stream",
     "text": [
      "                                                                                \r"
     ]
    },
    {
     "name": "stdout",
     "output_type": "stream",
     "text": [
      "Epoch 1 - Accuracy: 0.4223\n"
     ]
    },
    {
     "name": "stderr",
     "output_type": "stream",
     "text": [
      "                                                                                \r"
     ]
    },
    {
     "name": "stdout",
     "output_type": "stream",
     "text": [
      "Epoch 2 - Accuracy: 0.6759\n"
     ]
    },
    {
     "name": "stderr",
     "output_type": "stream",
     "text": [
      "                                                                                \r"
     ]
    },
    {
     "name": "stdout",
     "output_type": "stream",
     "text": [
      "Epoch 3 - Accuracy: 0.7772\n"
     ]
    },
    {
     "name": "stderr",
     "output_type": "stream",
     "text": [
      "                                                                                \r"
     ]
    },
    {
     "name": "stdout",
     "output_type": "stream",
     "text": [
      "Epoch 4 - Accuracy: 0.8638\n"
     ]
    },
    {
     "name": "stderr",
     "output_type": "stream",
     "text": [
      "                                                                                \r"
     ]
    },
    {
     "name": "stdout",
     "output_type": "stream",
     "text": [
      "Epoch 5 - Accuracy: 0.9313\n"
     ]
    },
    {
     "name": "stderr",
     "output_type": "stream",
     "text": [
      "                                                                                \r"
     ]
    },
    {
     "name": "stdout",
     "output_type": "stream",
     "text": [
      "Epoch 6 - Accuracy: 0.9670\n"
     ]
    },
    {
     "name": "stderr",
     "output_type": "stream",
     "text": [
      "                                                                                \r"
     ]
    },
    {
     "name": "stdout",
     "output_type": "stream",
     "text": [
      "Epoch 7 - Accuracy: 0.9884\n"
     ]
    },
    {
     "name": "stderr",
     "output_type": "stream",
     "text": [
      "                                                                                \r"
     ]
    },
    {
     "name": "stdout",
     "output_type": "stream",
     "text": [
      "Epoch 8 - Accuracy: 0.9955\n"
     ]
    },
    {
     "name": "stderr",
     "output_type": "stream",
     "text": [
      "                                                                                \r"
     ]
    },
    {
     "name": "stdout",
     "output_type": "stream",
     "text": [
      "Epoch 9 - Accuracy: 0.9982\n"
     ]
    },
    {
     "name": "stderr",
     "output_type": "stream",
     "text": [
      "                                                                                "
     ]
    },
    {
     "name": "stdout",
     "output_type": "stream",
     "text": [
      "Epoch 10 - Accuracy: 0.9982\n"
     ]
    },
    {
     "name": "stderr",
     "output_type": "stream",
     "text": [
      "\r"
     ]
    }
   ],
   "source": [
    "# Train...\n",
    "model.train()\n",
    "for epoch in range(10):  \n",
    "    progress_bar = tqdm(train_loader, desc=f\"Epoch {epoch + 1}/10\", leave=False)\n",
    "    total_correct = 0\n",
    "    total_samples = 0\n",
    "    \n",
    "    for batch in progress_bar:\n",
    "        optimizer.zero_grad()\n",
    "        input_ids, attention_mask, labels = [item.to(device) for item in batch]\n",
    "        logits = model(input_ids, attention_mask)\n",
    "        loss = loss_fn(logits, labels)\n",
    "        loss.backward()\n",
    "        optimizer.step()\n",
    "        \n",
    "        # accuracy \n",
    "        _, predicted = torch.max(logits, 1)\n",
    "#         predicted = logits\n",
    "        total_correct += (predicted == labels).sum().item()\n",
    "        total_samples += labels.size(0)\n",
    "        accuracy = total_correct / total_samples\n",
    "        \n",
    "        progress_bar.set_postfix({\"loss\": loss.item(), \"accuracy\": accuracy})\n",
    "        \n",
    "        # Accuracy * epoch\n",
    "    print(f'Epoch {epoch + 1} - Accuracy: {accuracy:.4f}')"
   ]
  },
  {
   "cell_type": "code",
   "execution_count": 23,
   "id": "b0f201a7",
   "metadata": {},
   "outputs": [
    {
     "name": "stderr",
     "output_type": "stream",
     "text": [
      "                                                                                "
     ]
    },
    {
     "name": "stdout",
     "output_type": "stream",
     "text": [
      "Final Accuracy: 0.6429\n"
     ]
    },
    {
     "name": "stderr",
     "output_type": "stream",
     "text": [
      "\r"
     ]
    }
   ],
   "source": [
    "# Evaluate...\n",
    "model.eval()\n",
    "total_correct = 0\n",
    "total_samples = 0\n",
    "with torch.no_grad():\n",
    "    progress_bar = tqdm(test_loader, desc=\"Evaluating\", leave=False)\n",
    "    for batch in progress_bar:\n",
    "        input_ids, attention_mask, labels = [item.to(device) for item in batch]\n",
    "        logits = model(input_ids, attention_mask)\n",
    "        _, predicted = torch.max(logits, 1)\n",
    "        total_correct += (predicted == labels).sum().item()\n",
    "        total_samples += labels.size(0)\n",
    "        progress_bar.set_postfix({\"accuracy\": total_correct / total_samples})\n",
    "\n",
    "accuracy = total_correct / total_samples\n",
    "print(f'Final Accuracy: {accuracy:.4f}')"
   ]
  },
  {
   "cell_type": "code",
   "execution_count": null,
   "id": "f12f71bd",
   "metadata": {},
   "outputs": [],
   "source": []
  }
 ],
 "metadata": {
  "kernelspec": {
   "display_name": "Python 3 (ipykernel)",
   "language": "python",
   "name": "python3"
  },
  "language_info": {
   "codemirror_mode": {
    "name": "ipython",
    "version": 3
   },
   "file_extension": ".py",
   "mimetype": "text/x-python",
   "name": "python",
   "nbconvert_exporter": "python",
   "pygments_lexer": "ipython3",
   "version": "3.11.4"
  }
 },
 "nbformat": 4,
 "nbformat_minor": 5
}
